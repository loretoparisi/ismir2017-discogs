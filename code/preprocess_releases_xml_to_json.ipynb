{
 "cells": [
  {
   "cell_type": "code",
   "execution_count": null,
   "metadata": {},
   "outputs": [
    {
     "name": "stdout",
     "output_type": "stream",
     "text": [
      "Loading json dump into a pandas DataFrame\n",
      "Processed 500000 releases\n",
      "Processed 1000000 releases\n",
      "Processed 1500000 releases\n",
      "Processed 2000000 releases\n",
      "Processed 2500000 releases\n",
      "Processed 3000000 releases\n",
      "Processed 3500000 releases\n",
      "Processed 4000000 releases\n"
     ]
    }
   ],
   "source": [
    "from preprocess_releases_json_to_hdf_pandas.py import *"
   ]
  },
  {
   "cell_type": "code",
   "execution_count": null,
   "metadata": {},
   "outputs": [],
   "source": []
  }
 ],
 "metadata": {
  "kernelspec": {
   "display_name": "Python 2",
   "language": "python",
   "name": "python2"
  },
  "language_info": {
   "codemirror_mode": {
    "name": "ipython",
    "version": 2
   },
   "file_extension": ".py",
   "mimetype": "text/x-python",
   "name": "python",
   "nbconvert_exporter": "python",
   "pygments_lexer": "ipython2",
   "version": "2.7.10"
  }
 },
 "nbformat": 4,
 "nbformat_minor": 2
}
